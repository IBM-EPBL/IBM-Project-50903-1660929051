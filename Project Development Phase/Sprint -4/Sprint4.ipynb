{
 "cells": [
  {
   "cell_type": "markdown",
   "id": "87aafaa5-31b1-4a9d-b4eb-c080c7e96025",
   "metadata": {},
   "source": [
    "Analytics For Hospitals Health-care Data"
   ]
  },
  {
   "cell_type": "markdown",
   "id": "98db0071-174c-4b0f-95dd-6ef852b12fcd",
   "metadata": {},
   "source": [
    "The goal of this project is to accurately predict the Length of Stay for each patient so that the hospitals can optimize resources and function better."
   ]
  },
  {
   "cell_type": "code",
   "execution_count": 1,
   "id": "34442b3c-a181-479d-9de7-5e335d08f20a",
   "metadata": {},
   "outputs": [],
   "source": [
    "import numpy as np\n",
    "import pandas as pd\n",
    "import matplotlib.pyplot as plt\n",
    "np.set_printoptions(suppress=True)\n",
    "import warnings\n",
    "warnings.filterwarnings('ignore')"
   ]
  },
  {
   "cell_type": "markdown",
   "id": "045baa3e-c5b4-430b-a5d1-07de6c5bcc64",
   "metadata": {},
   "source": [
    "Loading the dataset :"
   ]
  },
  {
   "cell_type": "code",
   "execution_count": 5,
   "id": "74eab2bb-6a3d-4d40-b97e-e9ce6aa01280",
   "metadata": {},
   "outputs": [],
   "source": [
    "#load data\n",
    "d1 = pd.read_csv(\"C:/Users/jagat/OneDrive/Healthcare_Data/sample_sub.csv\")\n",
    "d2 = pd.read_csv(\"C:/Users/jagat/OneDrive/Healthcare_Data/train_data_dictionary.csv\")\n",
    "test = pd.read_csv(\"C:/Users/jagat/OneDrive/Healthcare_Data/test_data.csv\")\n",
    "train = pd.read_csv(\"C:/Users/jagat/OneDrive/Healthcare_Data/train_data.csv\")"
   ]
  },
  {
   "cell_type": "markdown",
   "id": "12c47796-152b-4568-8800-adf8b51fbb0b",
   "metadata": {},
   "source": [
    "Data Exploration"
   ]
  },
  {
   "cell_type": "markdown",
   "id": "449a0ccf-e146-42f4-bf21-46924b17269e",
   "metadata": {},
   "source": [
    "Overview of Data"
   ]
  },
  {
   "cell_type": "code",
   "execution_count": 6,
   "id": "8ea40dd3-a94b-41bc-90b2-54f206804122",
   "metadata": {},
   "outputs": [
    {
     "data": {
      "text/html": [
       "<div>\n",
       "<style scoped>\n",
       "    .dataframe tbody tr th:only-of-type {\n",
       "        vertical-align: middle;\n",
       "    }\n",
       "\n",
       "    .dataframe tbody tr th {\n",
       "        vertical-align: top;\n",
       "    }\n",
       "\n",
       "    .dataframe thead th {\n",
       "        text-align: right;\n",
       "    }\n",
       "</style>\n",
       "<table border=\"1\" class=\"dataframe\">\n",
       "  <thead>\n",
       "    <tr style=\"text-align: right;\">\n",
       "      <th></th>\n",
       "      <th>case_id</th>\n",
       "      <th>Hospital_code</th>\n",
       "      <th>Hospital_type_code</th>\n",
       "      <th>City_Code_Hospital</th>\n",
       "      <th>Hospital_region_code</th>\n",
       "      <th>Available Extra Rooms in Hospital</th>\n",
       "      <th>Department</th>\n",
       "      <th>Ward_Type</th>\n",
       "      <th>Ward_Facility_Code</th>\n",
       "      <th>Bed Grade</th>\n",
       "      <th>patientid</th>\n",
       "      <th>City_Code_Patient</th>\n",
       "      <th>Type of Admission</th>\n",
       "      <th>Severity of Illness</th>\n",
       "      <th>Visitors with Patient</th>\n",
       "      <th>Age</th>\n",
       "      <th>Admission_Deposit</th>\n",
       "      <th>Stay</th>\n",
       "    </tr>\n",
       "  </thead>\n",
       "  <tbody>\n",
       "    <tr>\n",
       "      <th>0</th>\n",
       "      <td>1</td>\n",
       "      <td>8</td>\n",
       "      <td>c</td>\n",
       "      <td>3</td>\n",
       "      <td>Z</td>\n",
       "      <td>3</td>\n",
       "      <td>radiotherapy</td>\n",
       "      <td>R</td>\n",
       "      <td>F</td>\n",
       "      <td>2.0</td>\n",
       "      <td>31397</td>\n",
       "      <td>7.0</td>\n",
       "      <td>Emergency</td>\n",
       "      <td>Extreme</td>\n",
       "      <td>2</td>\n",
       "      <td>51-60</td>\n",
       "      <td>4911.0</td>\n",
       "      <td>0-10</td>\n",
       "    </tr>\n",
       "    <tr>\n",
       "      <th>1</th>\n",
       "      <td>2</td>\n",
       "      <td>2</td>\n",
       "      <td>c</td>\n",
       "      <td>5</td>\n",
       "      <td>Z</td>\n",
       "      <td>2</td>\n",
       "      <td>radiotherapy</td>\n",
       "      <td>S</td>\n",
       "      <td>F</td>\n",
       "      <td>2.0</td>\n",
       "      <td>31397</td>\n",
       "      <td>7.0</td>\n",
       "      <td>Trauma</td>\n",
       "      <td>Extreme</td>\n",
       "      <td>2</td>\n",
       "      <td>51-60</td>\n",
       "      <td>5954.0</td>\n",
       "      <td>41-50</td>\n",
       "    </tr>\n",
       "    <tr>\n",
       "      <th>2</th>\n",
       "      <td>3</td>\n",
       "      <td>10</td>\n",
       "      <td>e</td>\n",
       "      <td>1</td>\n",
       "      <td>X</td>\n",
       "      <td>2</td>\n",
       "      <td>anesthesia</td>\n",
       "      <td>S</td>\n",
       "      <td>E</td>\n",
       "      <td>2.0</td>\n",
       "      <td>31397</td>\n",
       "      <td>7.0</td>\n",
       "      <td>Trauma</td>\n",
       "      <td>Extreme</td>\n",
       "      <td>2</td>\n",
       "      <td>51-60</td>\n",
       "      <td>4745.0</td>\n",
       "      <td>31-40</td>\n",
       "    </tr>\n",
       "    <tr>\n",
       "      <th>3</th>\n",
       "      <td>4</td>\n",
       "      <td>26</td>\n",
       "      <td>b</td>\n",
       "      <td>2</td>\n",
       "      <td>Y</td>\n",
       "      <td>2</td>\n",
       "      <td>radiotherapy</td>\n",
       "      <td>R</td>\n",
       "      <td>D</td>\n",
       "      <td>2.0</td>\n",
       "      <td>31397</td>\n",
       "      <td>7.0</td>\n",
       "      <td>Trauma</td>\n",
       "      <td>Extreme</td>\n",
       "      <td>2</td>\n",
       "      <td>51-60</td>\n",
       "      <td>7272.0</td>\n",
       "      <td>41-50</td>\n",
       "    </tr>\n",
       "    <tr>\n",
       "      <th>4</th>\n",
       "      <td>5</td>\n",
       "      <td>26</td>\n",
       "      <td>b</td>\n",
       "      <td>2</td>\n",
       "      <td>Y</td>\n",
       "      <td>2</td>\n",
       "      <td>radiotherapy</td>\n",
       "      <td>S</td>\n",
       "      <td>D</td>\n",
       "      <td>2.0</td>\n",
       "      <td>31397</td>\n",
       "      <td>7.0</td>\n",
       "      <td>Trauma</td>\n",
       "      <td>Extreme</td>\n",
       "      <td>2</td>\n",
       "      <td>51-60</td>\n",
       "      <td>5558.0</td>\n",
       "      <td>41-50</td>\n",
       "    </tr>\n",
       "  </tbody>\n",
       "</table>\n",
       "</div>"
      ],
      "text/plain": [
       "   case_id  Hospital_code Hospital_type_code  City_Code_Hospital  \\\n",
       "0        1              8                  c                   3   \n",
       "1        2              2                  c                   5   \n",
       "2        3             10                  e                   1   \n",
       "3        4             26                  b                   2   \n",
       "4        5             26                  b                   2   \n",
       "\n",
       "  Hospital_region_code  Available Extra Rooms in Hospital    Department  \\\n",
       "0                    Z                                  3  radiotherapy   \n",
       "1                    Z                                  2  radiotherapy   \n",
       "2                    X                                  2    anesthesia   \n",
       "3                    Y                                  2  radiotherapy   \n",
       "4                    Y                                  2  radiotherapy   \n",
       "\n",
       "  Ward_Type Ward_Facility_Code  Bed Grade  patientid  City_Code_Patient  \\\n",
       "0         R                  F        2.0      31397                7.0   \n",
       "1         S                  F        2.0      31397                7.0   \n",
       "2         S                  E        2.0      31397                7.0   \n",
       "3         R                  D        2.0      31397                7.0   \n",
       "4         S                  D        2.0      31397                7.0   \n",
       "\n",
       "  Type of Admission Severity of Illness  Visitors with Patient    Age  \\\n",
       "0         Emergency             Extreme                      2  51-60   \n",
       "1            Trauma             Extreme                      2  51-60   \n",
       "2            Trauma             Extreme                      2  51-60   \n",
       "3            Trauma             Extreme                      2  51-60   \n",
       "4            Trauma             Extreme                      2  51-60   \n",
       "\n",
       "   Admission_Deposit   Stay  \n",
       "0             4911.0   0-10  \n",
       "1             5954.0  41-50  \n",
       "2             4745.0  31-40  \n",
       "3             7272.0  41-50  \n",
       "4             5558.0  41-50  "
      ]
     },
     "execution_count": 6,
     "metadata": {},
     "output_type": "execute_result"
    }
   ],
   "source": [
    "train.head()"
   ]
  },
  {
   "cell_type": "code",
   "execution_count": 7,
   "id": "a62388e5-41c3-4beb-904e-439e0f0d37e6",
   "metadata": {},
   "outputs": [
    {
     "name": "stdout",
     "output_type": "stream",
     "text": [
      "<class 'pandas.core.frame.DataFrame'>\n",
      "RangeIndex: 318438 entries, 0 to 318437\n",
      "Data columns (total 18 columns):\n",
      " #   Column                             Non-Null Count   Dtype  \n",
      "---  ------                             --------------   -----  \n",
      " 0   case_id                            318438 non-null  int64  \n",
      " 1   Hospital_code                      318438 non-null  int64  \n",
      " 2   Hospital_type_code                 318438 non-null  object \n",
      " 3   City_Code_Hospital                 318438 non-null  int64  \n",
      " 4   Hospital_region_code               318438 non-null  object \n",
      " 5   Available Extra Rooms in Hospital  318438 non-null  int64  \n",
      " 6   Department                         318438 non-null  object \n",
      " 7   Ward_Type                          318438 non-null  object \n",
      " 8   Ward_Facility_Code                 318438 non-null  object \n",
      " 9   Bed Grade                          318325 non-null  float64\n",
      " 10  patientid                          318438 non-null  int64  \n",
      " 11  City_Code_Patient                  313906 non-null  float64\n",
      " 12  Type of Admission                  318438 non-null  object \n",
      " 13  Severity of Illness                318438 non-null  object \n",
      " 14  Visitors with Patient              318438 non-null  int64  \n",
      " 15  Age                                318438 non-null  object \n",
      " 16  Admission_Deposit                  318438 non-null  float64\n",
      " 17  Stay                               318438 non-null  object \n",
      "dtypes: float64(3), int64(6), object(9)\n",
      "memory usage: 43.7+ MB\n"
     ]
    },
    {
     "data": {
      "text/plain": [
       "array(['0-10', '41-50', '31-40', '11-20', '51-60', '21-30', '71-80',\n",
       "       'More than 100 Days', '81-90', '61-70', '91-100'], dtype=object)"
      ]
     },
     "execution_count": 7,
     "metadata": {},
     "output_type": "execute_result"
    }
   ],
   "source": [
    "train.info()\n",
    "train.Stay.unique()"
   ]
  },
  {
   "cell_type": "code",
   "execution_count": 8,
   "id": "e28e9788-7bad-4a73-8728-7c37ad137412",
   "metadata": {},
   "outputs": [
    {
     "data": {
      "text/plain": [
       "City_Code_Patient                    4532\n",
       "Bed Grade                             113\n",
       "Hospital_code                           0\n",
       "Admission_Deposit                       0\n",
       "Age                                     0\n",
       "Visitors with Patient                   0\n",
       "Severity of Illness                     0\n",
       "Type of Admission                       0\n",
       "patientid                               0\n",
       "case_id                                 0\n",
       "Ward_Facility_Code                      0\n",
       "Ward_Type                               0\n",
       "Department                              0\n",
       "Available Extra Rooms in Hospital       0\n",
       "Hospital_region_code                    0\n",
       "City_Code_Hospital                      0\n",
       "Hospital_type_code                      0\n",
       "Stay                                    0\n",
       "dtype: int64"
      ]
     },
     "execution_count": 8,
     "metadata": {},
     "output_type": "execute_result"
    }
   ],
   "source": [
    "# NA values in train dataset :\n",
    "train.isnull().sum().sort_values(ascending = False)"
   ]
  },
  {
   "cell_type": "code",
   "execution_count": 9,
   "id": "6bb223da-47d2-4008-956a-8054b202274a",
   "metadata": {},
   "outputs": [
    {
     "data": {
      "text/plain": [
       "City_Code_Patient                    2157\n",
       "Bed Grade                              35\n",
       "case_id                                 0\n",
       "Age                                     0\n",
       "Visitors with Patient                   0\n",
       "Severity of Illness                     0\n",
       "Type of Admission                       0\n",
       "patientid                               0\n",
       "Ward_Facility_Code                      0\n",
       "Hospital_code                           0\n",
       "Ward_Type                               0\n",
       "Department                              0\n",
       "Available Extra Rooms in Hospital       0\n",
       "Hospital_region_code                    0\n",
       "City_Code_Hospital                      0\n",
       "Hospital_type_code                      0\n",
       "Admission_Deposit                       0\n",
       "dtype: int64"
      ]
     },
     "execution_count": 9,
     "metadata": {},
     "output_type": "execute_result"
    }
   ],
   "source": [
    "# NA values in test dataset :\n",
    "test.isnull().sum().sort_values(ascending = False)"
   ]
  },
  {
   "cell_type": "code",
   "execution_count": 10,
   "id": "14d37df4-b191-41b1-bb34-5351b7fd0d2d",
   "metadata": {},
   "outputs": [
    {
     "data": {
      "text/plain": [
       "(318438, 18)"
      ]
     },
     "execution_count": 10,
     "metadata": {},
     "output_type": "execute_result"
    }
   ],
   "source": [
    "# Dimension of train dataset\n",
    "train.shape"
   ]
  },
  {
   "cell_type": "code",
   "execution_count": 11,
   "id": "fd7d893c-2497-479a-a29c-70be73bf7d0c",
   "metadata": {},
   "outputs": [
    {
     "data": {
      "text/plain": [
       "(137057, 17)"
      ]
     },
     "execution_count": 11,
     "metadata": {},
     "output_type": "execute_result"
    }
   ],
   "source": [
    "# Dimension of test dataset\n",
    "test.shape"
   ]
  },
  {
   "cell_type": "code",
   "execution_count": 12,
   "id": "20acadab-6750-4061-97bb-37c8e4ac56ca",
   "metadata": {},
   "outputs": [
    {
     "name": "stdout",
     "output_type": "stream",
     "text": [
      "case_id : 318438\n",
      "Hospital_code : 32\n",
      "Hospital_type_code : 7\n",
      "City_Code_Hospital : 11\n",
      "Hospital_region_code : 3\n",
      "Available Extra Rooms in Hospital : 18\n",
      "Department : 5\n",
      "Ward_Type : 6\n",
      "Ward_Facility_Code : 6\n",
      "Bed Grade : 4\n",
      "patientid : 92017\n",
      "City_Code_Patient : 37\n",
      "Type of Admission : 3\n",
      "Severity of Illness : 3\n",
      "Visitors with Patient : 28\n",
      "Age : 10\n",
      "Admission_Deposit : 7300\n",
      "Stay : 11\n"
     ]
    }
   ],
   "source": [
    "# Number of distinct observations in train dataset \n",
    "for i in train.columns:\n",
    "    print(i, ':', train[i].nunique())"
   ]
  },
  {
   "cell_type": "code",
   "execution_count": 13,
   "id": "e99a6682-df23-4870-898c-29dd33189075",
   "metadata": {},
   "outputs": [
    {
     "name": "stdout",
     "output_type": "stream",
     "text": [
      "case_id : 137057\n",
      "Hospital_code : 32\n",
      "Hospital_type_code : 7\n",
      "City_Code_Hospital : 11\n",
      "Hospital_region_code : 3\n",
      "Available Extra Rooms in Hospital : 15\n",
      "Department : 5\n",
      "Ward_Type : 6\n",
      "Ward_Facility_Code : 6\n",
      "Bed Grade : 4\n",
      "patientid : 39607\n",
      "City_Code_Patient : 37\n",
      "Type of Admission : 3\n",
      "Severity of Illness : 3\n",
      "Visitors with Patient : 27\n",
      "Age : 10\n",
      "Admission_Deposit : 6609\n"
     ]
    }
   ],
   "source": [
    "# Number of distinct observations in test dataset\n",
    "for i in test.columns:\n",
    "    print(i, ':', test[i].nunique())"
   ]
  },
  {
   "cell_type": "markdown",
   "id": "dd812729-dbe4-4216-8bcc-ca7685d1ccfe",
   "metadata": {},
   "source": [
    "Data Preparation :"
   ]
  },
  {
   "cell_type": "code",
   "execution_count": 19,
   "id": "8d1ce959-f49e-4be5-8465-7911b3e86f25",
   "metadata": {},
   "outputs": [],
   "source": [
    "#Replacing NA values in Bed Grade Column for both Train and Test datssets\n",
    "train['Bed Grade'].fillna(train['Bed Grade'].mode()[0], inplace = True)\n",
    "test['Bed Grade'].fillna(test['Bed Grade'].mode()[0], inplace = True)"
   ]
  },
  {
   "cell_type": "code",
   "execution_count": 20,
   "id": "b77c547b-f828-44ba-99c4-dfbf50e91d07",
   "metadata": {},
   "outputs": [],
   "source": [
    "#Replacing NA values in  Column for both Train and Test datssets\n",
    "train['City_Code_Patient'].fillna(train['City_Code_Patient'].mode()[0], inplace = True)\n",
    "test['City_Code_Patient'].fillna(test['City_Code_Patient'].mode()[0], inplace = True)"
   ]
  },
  {
   "cell_type": "code",
   "execution_count": 21,
   "id": "d028bffb-c414-4034-9c98-5e0e1d9b628f",
   "metadata": {},
   "outputs": [],
   "source": [
    "# Label Encoding Stay column in train dataset\n",
    "from sklearn.preprocessing import LabelEncoder\n",
    "le = LabelEncoder()\n",
    "train['Stay'] = le.fit_transform(train['Stay'].astype('str'))"
   ]
  },
  {
   "cell_type": "code",
   "execution_count": 22,
   "id": "0c45f015-88ae-4fd7-a54a-4b8a2bde39f0",
   "metadata": {},
   "outputs": [
    {
     "data": {
      "text/html": [
       "<div>\n",
       "<style scoped>\n",
       "    .dataframe tbody tr th:only-of-type {\n",
       "        vertical-align: middle;\n",
       "    }\n",
       "\n",
       "    .dataframe tbody tr th {\n",
       "        vertical-align: top;\n",
       "    }\n",
       "\n",
       "    .dataframe thead th {\n",
       "        text-align: right;\n",
       "    }\n",
       "</style>\n",
       "<table border=\"1\" class=\"dataframe\">\n",
       "  <thead>\n",
       "    <tr style=\"text-align: right;\">\n",
       "      <th></th>\n",
       "      <th>case_id</th>\n",
       "      <th>Hospital_code</th>\n",
       "      <th>Hospital_type_code</th>\n",
       "      <th>City_Code_Hospital</th>\n",
       "      <th>Hospital_region_code</th>\n",
       "      <th>Available Extra Rooms in Hospital</th>\n",
       "      <th>Department</th>\n",
       "      <th>Ward_Type</th>\n",
       "      <th>Ward_Facility_Code</th>\n",
       "      <th>Bed Grade</th>\n",
       "      <th>patientid</th>\n",
       "      <th>City_Code_Patient</th>\n",
       "      <th>Type of Admission</th>\n",
       "      <th>Severity of Illness</th>\n",
       "      <th>Visitors with Patient</th>\n",
       "      <th>Age</th>\n",
       "      <th>Admission_Deposit</th>\n",
       "      <th>Stay</th>\n",
       "    </tr>\n",
       "  </thead>\n",
       "  <tbody>\n",
       "    <tr>\n",
       "      <th>0</th>\n",
       "      <td>1</td>\n",
       "      <td>8</td>\n",
       "      <td>c</td>\n",
       "      <td>3</td>\n",
       "      <td>Z</td>\n",
       "      <td>3</td>\n",
       "      <td>radiotherapy</td>\n",
       "      <td>R</td>\n",
       "      <td>F</td>\n",
       "      <td>2.0</td>\n",
       "      <td>31397</td>\n",
       "      <td>7.0</td>\n",
       "      <td>Emergency</td>\n",
       "      <td>Extreme</td>\n",
       "      <td>2</td>\n",
       "      <td>51-60</td>\n",
       "      <td>4911.0</td>\n",
       "      <td>0</td>\n",
       "    </tr>\n",
       "    <tr>\n",
       "      <th>1</th>\n",
       "      <td>2</td>\n",
       "      <td>2</td>\n",
       "      <td>c</td>\n",
       "      <td>5</td>\n",
       "      <td>Z</td>\n",
       "      <td>2</td>\n",
       "      <td>radiotherapy</td>\n",
       "      <td>S</td>\n",
       "      <td>F</td>\n",
       "      <td>2.0</td>\n",
       "      <td>31397</td>\n",
       "      <td>7.0</td>\n",
       "      <td>Trauma</td>\n",
       "      <td>Extreme</td>\n",
       "      <td>2</td>\n",
       "      <td>51-60</td>\n",
       "      <td>5954.0</td>\n",
       "      <td>5</td>\n",
       "    </tr>\n",
       "    <tr>\n",
       "      <th>2</th>\n",
       "      <td>3</td>\n",
       "      <td>10</td>\n",
       "      <td>e</td>\n",
       "      <td>1</td>\n",
       "      <td>X</td>\n",
       "      <td>2</td>\n",
       "      <td>anesthesia</td>\n",
       "      <td>S</td>\n",
       "      <td>E</td>\n",
       "      <td>2.0</td>\n",
       "      <td>31397</td>\n",
       "      <td>7.0</td>\n",
       "      <td>Trauma</td>\n",
       "      <td>Extreme</td>\n",
       "      <td>2</td>\n",
       "      <td>51-60</td>\n",
       "      <td>4745.0</td>\n",
       "      <td>4</td>\n",
       "    </tr>\n",
       "    <tr>\n",
       "      <th>3</th>\n",
       "      <td>4</td>\n",
       "      <td>26</td>\n",
       "      <td>b</td>\n",
       "      <td>2</td>\n",
       "      <td>Y</td>\n",
       "      <td>2</td>\n",
       "      <td>radiotherapy</td>\n",
       "      <td>R</td>\n",
       "      <td>D</td>\n",
       "      <td>2.0</td>\n",
       "      <td>31397</td>\n",
       "      <td>7.0</td>\n",
       "      <td>Trauma</td>\n",
       "      <td>Extreme</td>\n",
       "      <td>2</td>\n",
       "      <td>51-60</td>\n",
       "      <td>7272.0</td>\n",
       "      <td>5</td>\n",
       "    </tr>\n",
       "    <tr>\n",
       "      <th>4</th>\n",
       "      <td>5</td>\n",
       "      <td>26</td>\n",
       "      <td>b</td>\n",
       "      <td>2</td>\n",
       "      <td>Y</td>\n",
       "      <td>2</td>\n",
       "      <td>radiotherapy</td>\n",
       "      <td>S</td>\n",
       "      <td>D</td>\n",
       "      <td>2.0</td>\n",
       "      <td>31397</td>\n",
       "      <td>7.0</td>\n",
       "      <td>Trauma</td>\n",
       "      <td>Extreme</td>\n",
       "      <td>2</td>\n",
       "      <td>51-60</td>\n",
       "      <td>5558.0</td>\n",
       "      <td>5</td>\n",
       "    </tr>\n",
       "  </tbody>\n",
       "</table>\n",
       "</div>"
      ],
      "text/plain": [
       "   case_id  Hospital_code Hospital_type_code  City_Code_Hospital  \\\n",
       "0        1              8                  c                   3   \n",
       "1        2              2                  c                   5   \n",
       "2        3             10                  e                   1   \n",
       "3        4             26                  b                   2   \n",
       "4        5             26                  b                   2   \n",
       "\n",
       "  Hospital_region_code  Available Extra Rooms in Hospital    Department  \\\n",
       "0                    Z                                  3  radiotherapy   \n",
       "1                    Z                                  2  radiotherapy   \n",
       "2                    X                                  2    anesthesia   \n",
       "3                    Y                                  2  radiotherapy   \n",
       "4                    Y                                  2  radiotherapy   \n",
       "\n",
       "  Ward_Type Ward_Facility_Code  Bed Grade  patientid  City_Code_Patient  \\\n",
       "0         R                  F        2.0      31397                7.0   \n",
       "1         S                  F        2.0      31397                7.0   \n",
       "2         S                  E        2.0      31397                7.0   \n",
       "3         R                  D        2.0      31397                7.0   \n",
       "4         S                  D        2.0      31397                7.0   \n",
       "\n",
       "  Type of Admission Severity of Illness  Visitors with Patient    Age  \\\n",
       "0         Emergency             Extreme                      2  51-60   \n",
       "1            Trauma             Extreme                      2  51-60   \n",
       "2            Trauma             Extreme                      2  51-60   \n",
       "3            Trauma             Extreme                      2  51-60   \n",
       "4            Trauma             Extreme                      2  51-60   \n",
       "\n",
       "   Admission_Deposit  Stay  \n",
       "0             4911.0     0  \n",
       "1             5954.0     5  \n",
       "2             4745.0     4  \n",
       "3             7272.0     5  \n",
       "4             5558.0     5  "
      ]
     },
     "execution_count": 22,
     "metadata": {},
     "output_type": "execute_result"
    }
   ],
   "source": [
    "train.head()"
   ]
  },
  {
   "cell_type": "code",
   "execution_count": 23,
   "id": "ca7460ce-f81d-41d5-9a38-cf6df72eab21",
   "metadata": {},
   "outputs": [
    {
     "data": {
      "text/plain": [
       "(455495, 18)"
      ]
     },
     "execution_count": 23,
     "metadata": {},
     "output_type": "execute_result"
    }
   ],
   "source": [
    "#Imputing dummy Stay column in test datset to concatenate with train dataset\n",
    "test['Stay'] = -1\n",
    "df = pd.concat([train, test])\n",
    "df.shape"
   ]
  },
  {
   "cell_type": "code",
   "execution_count": 24,
   "id": "9448280a-d76b-400c-9933-b6668530062e",
   "metadata": {},
   "outputs": [],
   "source": [
    "#Label Encoding all the columns in Train and test datasets\n",
    "for i in ['Hospital_type_code', 'Hospital_region_code', 'Department',\n",
    "          'Ward_Type', 'Ward_Facility_Code', 'Type of Admission', 'Severity of Illness', 'Age']:\n",
    "    le = LabelEncoder()\n",
    "    df[i] = le.fit_transform(df[i].astype(str))"
   ]
  },
  {
   "cell_type": "code",
   "execution_count": 25,
   "id": "88ced0c4-0547-4d02-b709-49a1700e4d84",
   "metadata": {},
   "outputs": [],
   "source": [
    "#Spearating Train and Test Datasets\n",
    "train = df[df['Stay']!=-1]\n",
    "test = df[df['Stay']==-1]"
   ]
  },
  {
   "cell_type": "markdown",
   "id": "9f370295-b2b6-4ef3-8950-2e8e5b4ba50d",
   "metadata": {},
   "source": [
    "Feature Engineering"
   ]
  },
  {
   "cell_type": "markdown",
   "id": "adff1732-fd11-46e2-814a-ad9b11b5017c",
   "metadata": {},
   "source": [
    "New Section"
   ]
  },
  {
   "cell_type": "code",
   "execution_count": 31,
   "id": "99ab3768-5f87-4e99-a6d2-f9ff7dc41be3",
   "metadata": {
    "tags": []
   },
   "outputs": [],
   "source": [
    "def get_countid_enocde(train, test, cols, name):\n",
    "  temp = train.groupby(cols)['case_id'].count().reset_index().rename(columns = {'case_id': name})\n",
    "  temp2 = test.groupby(cols)['case_id'].count().reset_index().rename(columns = {'case_id': name})\n",
    "  train = pd.merge(train, temp, how='left', on= cols)\n",
    "  test = pd.merge(test,temp2, how='left', on= cols)\n",
    "  train[name] = train[name].astype('float')\n",
    "  test[name] = test[name].astype('float')\n",
    "  train[name].fillna(np.median(temp[name]), inplace = True)\n",
    "  test[name].fillna(np.median(temp2[name]), inplace = True)\n",
    "  return train, test"
   ]
  },
  {
   "cell_type": "code",
   "execution_count": 27,
   "id": "c3f13c3c-a1e5-4187-a352-9afc9e212597",
   "metadata": {
    "tags": []
   },
   "outputs": [],
   "source": [
    "train, test = get_countid_enocde(train, test, ['patientid'], name = 'count_id_patient')\n",
    "train, test = get_countid_enocde(train, test, \n",
    "                                 ['patientid', 'Hospital_region_code'], name = 'count_id_patient_hospitalCode')\n",
    "train, test = get_countid_enocde(train, test, \n",
    "                                 ['patientid', 'Ward_Facility_Code'], name = 'count_id_patient_wardfacilityCode')"
   ]
  },
  {
   "cell_type": "code",
   "execution_count": 28,
   "id": "b68e8107-4c53-4298-8f1c-158140040b3f",
   "metadata": {},
   "outputs": [],
   "source": [
    "# Droping duplicate columns\n",
    "test1 = test.drop(['Stay', 'patientid', 'Hospital_region_code', 'Ward_Facility_Code'], axis =1)\n",
    "train1 = train.drop(['case_id', 'patientid', 'Hospital_region_code', 'Ward_Facility_Code'], axis =1)"
   ]
  },
  {
   "cell_type": "code",
   "execution_count": 29,
   "id": "cdcddd9a-0688-4110-ac51-dea62d6c82d1",
   "metadata": {},
   "outputs": [],
   "source": [
    "# Splitting train data for Naive Bayes and XGBoost\n",
    "X1 = train1.drop('Stay', axis =1)\n",
    "y1 = train1['Stay']\n",
    "from sklearn.model_selection import train_test_split\n",
    "X_train, X_test, y_train, y_test = train_test_split(X1, y1, test_size =0.20, random_state =100)"
   ]
  },
  {
   "cell_type": "markdown",
   "id": "996e6d27-eb63-4f57-86cf-2cbe32d70da9",
   "metadata": {},
   "source": [
    "Models"
   ]
  },
  {
   "cell_type": "markdown",
   "id": "75cbdffa-d5c2-49d7-a5de-d5a44146a81b",
   "metadata": {},
   "source": [
    "Naive Bayes"
   ]
  },
  {
   "cell_type": "code",
   "execution_count": 32,
   "id": "eb3bb38c-8abd-4778-bd02-c9f1397fa27e",
   "metadata": {},
   "outputs": [],
   "source": [
    "from sklearn.naive_bayes import GaussianNB\n",
    "target = y_train.values\n",
    "features = X_train.values\n",
    "classifier_nb = GaussianNB()\n",
    "model_nb = classifier_nb.fit(features, target)"
   ]
  },
  {
   "cell_type": "code",
   "execution_count": 33,
   "id": "f70d84ca-fee4-49d1-99ee-2cc2c656c7ea",
   "metadata": {},
   "outputs": [
    {
     "name": "stdout",
     "output_type": "stream",
     "text": [
      "Acurracy: 34.55439015199096\n"
     ]
    }
   ],
   "source": [
    "prediction_nb = model_nb.predict(X_test)\n",
    "from sklearn.metrics import accuracy_score\n",
    "acc_score_nb = accuracy_score(prediction_nb,y_test)\n",
    "print(\"Acurracy:\", acc_score_nb*100)"
   ]
  },
  {
   "cell_type": "markdown",
   "id": "ddd9b5b6-2444-4ee0-93db-b4e4853a96d1",
   "metadata": {},
   "source": [
    "Neural Network"
   ]
  },
  {
   "cell_type": "code",
   "execution_count": 34,
   "id": "d3c02614-7e5e-45f8-ba8b-36eb667c27fc",
   "metadata": {},
   "outputs": [
    {
     "name": "stdout",
     "output_type": "stream",
     "text": [
      "Index(['case_id', 'Hospital_code', 'Hospital_type_code', 'City_Code_Hospital',\n",
      "       'Hospital_region_code', 'Available Extra Rooms in Hospital',\n",
      "       'Department', 'Ward_Type', 'Ward_Facility_Code', 'Bed Grade',\n",
      "       'patientid', 'City_Code_Patient', 'Type of Admission',\n",
      "       'Severity of Illness', 'Visitors with Patient', 'Age',\n",
      "       'Admission_Deposit', 'count_id_patient',\n",
      "       'count_id_patient_hospitalCode', 'count_id_patient_wardfacilityCode'],\n",
      "      dtype='object')\n",
      "Index(['case_id', 'Hospital_code', 'Hospital_type_code', 'City_Code_Hospital',\n",
      "       'Hospital_region_code', 'Available Extra Rooms in Hospital',\n",
      "       'Department', 'Ward_Type', 'Ward_Facility_Code', 'Bed Grade',\n",
      "       'patientid', 'City_Code_Patient', 'Type of Admission',\n",
      "       'Severity of Illness', 'Visitors with Patient', 'Age',\n",
      "       'Admission_Deposit', 'count_id_patient',\n",
      "       'count_id_patient_hospitalCode', 'count_id_patient_wardfacilityCode'],\n",
      "      dtype='object')\n"
     ]
    }
   ],
   "source": [
    "# Segregation of features and target variable\n",
    "X = train.drop('Stay', axis =1)\n",
    "y = train['Stay']\n",
    "print(X.columns)\n",
    "z = test.drop('Stay', axis = 1)\n",
    "print(z.columns)"
   ]
  },
  {
   "cell_type": "code",
   "execution_count": 42,
   "id": "cfac475d-2bf1-4c4c-bfb2-51795b6a3676",
   "metadata": {},
   "outputs": [
    {
     "data": {
      "text/plain": [
       "(318438, 20)"
      ]
     },
     "execution_count": 42,
     "metadata": {},
     "output_type": "execute_result"
    }
   ],
   "source": [
    "# Data Scaling\n",
    "from sklearn import preprocessing\n",
    "X_scale = preprocessing.scale(X)\n",
    "X_scale.shape"
   ]
  },
  {
   "cell_type": "code",
   "execution_count": 38,
   "id": "25ac872f-f640-4d41-8f61-565f7a440a21",
   "metadata": {},
   "outputs": [],
   "source": [
    "X_train, X_test, y_train, y_test = train_test_split(X_scale, y, test_size =0.20, random_state =100)"
   ]
  },
  {
   "cell_type": "markdown",
   "id": "0364cf50-9487-4571-9568-146614a672ed",
   "metadata": {},
   "source": [
    "Predictions"
   ]
  },
  {
   "cell_type": "code",
   "execution_count": 48,
   "id": "8a0cb13f-20a3-4560-a17c-a5dc0c888b60",
   "metadata": {},
   "outputs": [],
   "source": [
    "# Naive Bayes\n",
    "pred_nb = classifier_nb.predict(test1.iloc[:,1:])\n",
    "result_nb = pd.DataFrame(pred_nb, columns=['Stay'])\n",
    "result_nb['case_id'] = test1['case_id']\n",
    "result_nb = result_nb[['case_id', 'Stay']]"
   ]
  },
  {
   "cell_type": "code",
   "execution_count": 49,
   "id": "8cb251b2-6adb-4769-bb75-47ae0c68ec98",
   "metadata": {},
   "outputs": [
    {
     "data": {
      "text/html": [
       "<div>\n",
       "<style scoped>\n",
       "    .dataframe tbody tr th:only-of-type {\n",
       "        vertical-align: middle;\n",
       "    }\n",
       "\n",
       "    .dataframe tbody tr th {\n",
       "        vertical-align: top;\n",
       "    }\n",
       "\n",
       "    .dataframe thead th {\n",
       "        text-align: right;\n",
       "    }\n",
       "</style>\n",
       "<table border=\"1\" class=\"dataframe\">\n",
       "  <thead>\n",
       "    <tr style=\"text-align: right;\">\n",
       "      <th></th>\n",
       "      <th>case_id</th>\n",
       "      <th>Stay</th>\n",
       "    </tr>\n",
       "  </thead>\n",
       "  <tbody>\n",
       "    <tr>\n",
       "      <th>0</th>\n",
       "      <td>318439</td>\n",
       "      <td>31-40</td>\n",
       "    </tr>\n",
       "    <tr>\n",
       "      <th>1</th>\n",
       "      <td>318440</td>\n",
       "      <td>61-70</td>\n",
       "    </tr>\n",
       "    <tr>\n",
       "      <th>2</th>\n",
       "      <td>318441</td>\n",
       "      <td>31-40</td>\n",
       "    </tr>\n",
       "    <tr>\n",
       "      <th>3</th>\n",
       "      <td>318442</td>\n",
       "      <td>31-40</td>\n",
       "    </tr>\n",
       "    <tr>\n",
       "      <th>4</th>\n",
       "      <td>318443</td>\n",
       "      <td>41-50</td>\n",
       "    </tr>\n",
       "  </tbody>\n",
       "</table>\n",
       "</div>"
      ],
      "text/plain": [
       "   case_id   Stay\n",
       "0   318439  31-40\n",
       "1   318440  61-70\n",
       "2   318441  31-40\n",
       "3   318442  31-40\n",
       "4   318443  41-50"
      ]
     },
     "execution_count": 49,
     "metadata": {},
     "output_type": "execute_result"
    }
   ],
   "source": [
    "result_nb['Stay'] = result_nb['Stay'].replace({0:'0-10', 1: '11-20', 2: '21-30', 3:'31-40', 4: '41-50', 5: '51-60', 6: '61-70', 7: '71-80', 8: '81-90', 9: '91-100', 10: 'More than 100 Days'})\n",
    "result_nb.head()"
   ]
  },
  {
   "cell_type": "code",
   "execution_count": 50,
   "id": "275ee451-3b78-46fc-9e69-03ac91da8160",
   "metadata": {},
   "outputs": [
    {
     "data": {
      "text/plain": [
       "(137057, 20)"
      ]
     },
     "execution_count": 50,
     "metadata": {},
     "output_type": "execute_result"
    }
   ],
   "source": [
    "# Neural Network\n",
    "test_scale = preprocessing.scale(z)\n",
    "test_scale.shape"
   ]
  },
  {
   "cell_type": "markdown",
   "id": "f507744d-3e45-4110-86c8-9f1e3ef7520a",
   "metadata": {},
   "source": [
    "Results"
   ]
  },
  {
   "cell_type": "code",
   "execution_count": 51,
   "id": "5dfea542-ac65-4e17-83ca-82ae631c7443",
   "metadata": {},
   "outputs": [
    {
     "name": "stdout",
     "output_type": "stream",
     "text": [
      "Stay\n",
      "0-10                   2598\n",
      "11-20                 26827\n",
      "21-30                  4322\n",
      "31-40                 72206\n",
      "41-50                 15639\n",
      "51-60                   469\n",
      "61-70                 13651\n",
      "71-80                    92\n",
      "81-90                   955\n",
      "91-100                  296\n",
      "More than 100 Days        2\n",
      "Name: case_id, dtype: int64\n"
     ]
    }
   ],
   "source": [
    "# Naive Bayes\n",
    "print(result_nb.groupby('Stay')['case_id'].nunique())"
   ]
  },
  {
   "cell_type": "code",
   "execution_count": null,
   "id": "b5f026e3-14c2-4264-a974-d6cbee835d2c",
   "metadata": {},
   "outputs": [],
   "source": []
  }
 ],
 "metadata": {
  "kernelspec": {
   "display_name": "Python 3 (ipykernel)",
   "language": "python",
   "name": "python3"
  },
  "language_info": {
   "codemirror_mode": {
    "name": "ipython",
    "version": 3
   },
   "file_extension": ".py",
   "mimetype": "text/x-python",
   "name": "python",
   "nbconvert_exporter": "python",
   "pygments_lexer": "ipython3",
   "version": "3.9.13"
  }
 },
 "nbformat": 4,
 "nbformat_minor": 5
}
